{
 "cells": [
  {
   "cell_type": "raw",
   "id": "40155b7d",
   "metadata": {},
   "source": [
    "INSTRUCTIONS\n",
    "1. Rock wins against scissor\n",
    "2.scissor wins against paper\n",
    "3.paper wins against rock"
   ]
  },
  {
   "cell_type": "code",
   "execution_count": 2,
   "id": "f49087c0",
   "metadata": {},
   "outputs": [
    {
     "name": "stdout",
     "output_type": "stream",
     "text": [
      "Enter rock or paper or scissor : rock\n",
      "your choice : \n",
      "_______________\n",
      "    ___________)\n",
      "    (__________)\n",
      "     (__________)\n",
      "     (________)\n",
      "    ___(_____)\n",
      "frnd choice is : \n",
      "_______________\n",
      "    ___________)_______\n",
      "    ____________________)__\n",
      "    -(_____________________)\n",
      "    -(________)\n",
      "    ___(_____)\n",
      "You won\n"
     ]
    }
   ],
   "source": [
    "import random\n",
    "scissor= '''_______________\n",
    "    ___________)_______\n",
    "    ____________________)__\n",
    "    -(_____________________)\n",
    "    -(________)\n",
    "    ___(_____)'''\n",
    "rock= '''_______________\n",
    "    ___________)\n",
    "    (__________)\n",
    "     (__________)\n",
    "     (________)\n",
    "    ___(_____)'''\n",
    "paper = '''_______________\n",
    "    ___________)_______\n",
    "    ____________________)__\n",
    "    -_____________________)\n",
    "    -_________________)\n",
    "    _______________)'''\n",
    "my = input(\"Enter rock or paper or scissor : \")\n",
    "print(\"your choice : \")\n",
    "if my == \"rock\":\n",
    "    print(rock)\n",
    "elif my == \"paper\" :\n",
    "    print(paper)\n",
    "elif my == \"scissor\":\n",
    "    print(scissor)\n",
    "items = [\"rock\",\"paper\",\"scissor\"]\n",
    "frn = random.choice(items)\n",
    "print(\"frnd choice is : \")\n",
    "if frn==\"rock\":\n",
    "    print(rock)\n",
    "elif frn == \"paper\" :\n",
    "    print(paper)\n",
    "elif frn == \"scissor\":\n",
    "    print(scissor)\n",
    "if my == \"rock\":\n",
    "    if frn == \"paper\":\n",
    "        print(\"computer won!!!\")\n",
    "    if frn == \"scissor\":\n",
    "        print(\"You won\")\n",
    "    if frn == \"rock\":\n",
    "        print(\"Play again\")\n",
    "if my == \"paper\":\n",
    "    if frn == \"paper\":\n",
    "        print(\"play again!!!\")\n",
    "    if frn == \"scissor\":\n",
    "        print(\"computer won\")\n",
    "    if frn == \"rock\":\n",
    "        print(\"You won!!!\")\n",
    "if my == \"scissor\":\n",
    "    if frn == \"paper\":\n",
    "        print(\"you won!!!\")\n",
    "    if frn == \"rock\":\n",
    "        print(\"computer won\")\n",
    "    if frn == \"scissor\":\n",
    "        print(\"Play again\")"
   ]
  },
  {
   "cell_type": "code",
   "execution_count": null,
   "id": "db414b77",
   "metadata": {},
   "outputs": [],
   "source": []
  }
 ],
 "metadata": {
  "kernelspec": {
   "display_name": "Python 3",
   "language": "python",
   "name": "python3"
  },
  "language_info": {
   "codemirror_mode": {
    "name": "ipython",
    "version": 3
   },
   "file_extension": ".py",
   "mimetype": "text/x-python",
   "name": "python",
   "nbconvert_exporter": "python",
   "pygments_lexer": "ipython3",
   "version": "3.8.8"
  }
 },
 "nbformat": 4,
 "nbformat_minor": 5
}
