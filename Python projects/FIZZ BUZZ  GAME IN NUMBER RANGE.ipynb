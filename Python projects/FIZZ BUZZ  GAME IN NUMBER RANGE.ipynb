{
 "cells": [
  {
   "cell_type": "code",
   "execution_count": 1,
   "id": "86a919ad",
   "metadata": {},
   "outputs": [
    {
     "name": "stdout",
     "output_type": "stream",
     "text": [
      "enter n : 598\n",
      "598\n",
      "fizzbuzz\t1\t2\tfizz\t4\tbuzz\tfizz\t7\t8\tfizz\tbuzz\t11\tfizz\t13\t14\tfizzbuzz\t16\t17\tfizz\t19\tbuzz\tfizz\t22\t23\tfizz\tbuzz\t26\tfizz\t28\t29\tfizzbuzz\t31\t32\tfizz\t34\tbuzz\tfizz\t37\t38\tfizz\tbuzz\t41\tfizz\t43\t44\tfizzbuzz\t46\t47\tfizz\t49\tbuzz\tfizz\t52\t53\tfizz\tbuzz\t56\tfizz\t58\t59\tfizzbuzz\t61\t62\tfizz\t64\tbuzz\tfizz\t67\t68\tfizz\tbuzz\t71\tfizz\t73\t74\tfizzbuzz\t76\t77\tfizz\t79\tbuzz\tfizz\t82\t83\tfizz\tbuzz\t86\tfizz\t88\t89\tfizzbuzz\t91\t92\tfizz\t94\tbuzz\tfizz\t97\t98\tfizz\tbuzz\t101\tfizz\t103\t104\tfizzbuzz\t106\t107\tfizz\t109\tbuzz\tfizz\t112\t113\tfizz\tbuzz\t116\tfizz\t118\t119\tfizzbuzz\t121\t122\tfizz\t124\tbuzz\tfizz\t127\t128\tfizz\tbuzz\t131\tfizz\t133\t134\tfizzbuzz\t136\t137\tfizz\t139\tbuzz\tfizz\t142\t143\tfizz\tbuzz\t146\tfizz\t148\t149\tfizzbuzz\t151\t152\tfizz\t154\tbuzz\tfizz\t157\t158\tfizz\tbuzz\t161\tfizz\t163\t164\tfizzbuzz\t166\t167\tfizz\t169\tbuzz\tfizz\t172\t173\tfizz\tbuzz\t176\tfizz\t178\t179\tfizzbuzz\t181\t182\tfizz\t184\tbuzz\tfizz\t187\t188\tfizz\tbuzz\t191\tfizz\t193\t194\tfizzbuzz\t196\t197\tfizz\t199\tbuzz\tfizz\t202\t203\tfizz\tbuzz\t206\tfizz\t208\t209\tfizzbuzz\t211\t212\tfizz\t214\tbuzz\tfizz\t217\t218\tfizz\tbuzz\t221\tfizz\t223\t224\tfizzbuzz\t226\t227\tfizz\t229\tbuzz\tfizz\t232\t233\tfizz\tbuzz\t236\tfizz\t238\t239\tfizzbuzz\t241\t242\tfizz\t244\tbuzz\tfizz\t247\t248\tfizz\tbuzz\t251\tfizz\t253\t254\tfizzbuzz\t256\t257\tfizz\t259\tbuzz\tfizz\t262\t263\tfizz\tbuzz\t266\tfizz\t268\t269\tfizzbuzz\t271\t272\tfizz\t274\tbuzz\tfizz\t277\t278\tfizz\tbuzz\t281\tfizz\t283\t284\tfizzbuzz\t286\t287\tfizz\t289\tbuzz\tfizz\t292\t293\tfizz\tbuzz\t296\tfizz\t298\t299\tfizzbuzz\t301\t302\tfizz\t304\tbuzz\tfizz\t307\t308\tfizz\tbuzz\t311\tfizz\t313\t314\tfizzbuzz\t316\t317\tfizz\t319\tbuzz\tfizz\t322\t323\tfizz\tbuzz\t326\tfizz\t328\t329\tfizzbuzz\t331\t332\tfizz\t334\tbuzz\tfizz\t337\t338\tfizz\tbuzz\t341\tfizz\t343\t344\tfizzbuzz\t346\t347\tfizz\t349\tbuzz\tfizz\t352\t353\tfizz\tbuzz\t356\tfizz\t358\t359\tfizzbuzz\t361\t362\tfizz\t364\tbuzz\tfizz\t367\t368\tfizz\tbuzz\t371\tfizz\t373\t374\tfizzbuzz\t376\t377\tfizz\t379\tbuzz\tfizz\t382\t383\tfizz\tbuzz\t386\tfizz\t388\t389\tfizzbuzz\t391\t392\tfizz\t394\tbuzz\tfizz\t397\t398\tfizz\tbuzz\t401\tfizz\t403\t404\tfizzbuzz\t406\t407\tfizz\t409\tbuzz\tfizz\t412\t413\tfizz\tbuzz\t416\tfizz\t418\t419\tfizzbuzz\t421\t422\tfizz\t424\tbuzz\tfizz\t427\t428\tfizz\tbuzz\t431\tfizz\t433\t434\tfizzbuzz\t436\t437\tfizz\t439\tbuzz\tfizz\t442\t443\tfizz\tbuzz\t446\tfizz\t448\t449\tfizzbuzz\t451\t452\tfizz\t454\tbuzz\tfizz\t457\t458\tfizz\tbuzz\t461\tfizz\t463\t464\tfizzbuzz\t466\t467\tfizz\t469\tbuzz\tfizz\t472\t473\tfizz\tbuzz\t476\tfizz\t478\t479\tfizzbuzz\t481\t482\tfizz\t484\tbuzz\tfizz\t487\t488\tfizz\tbuzz\t491\tfizz\t493\t494\tfizzbuzz\t496\t497\tfizz\t499\tbuzz\tfizz\t502\t503\tfizz\tbuzz\t506\tfizz\t508\t509\tfizzbuzz\t511\t512\tfizz\t514\tbuzz\tfizz\t517\t518\tfizz\tbuzz\t521\tfizz\t523\t524\tfizzbuzz\t526\t527\tfizz\t529\tbuzz\tfizz\t532\t533\tfizz\tbuzz\t536\tfizz\t538\t539\tfizzbuzz\t541\t542\tfizz\t544\tbuzz\tfizz\t547\t548\tfizz\tbuzz\t551\tfizz\t553\t554\tfizzbuzz\t556\t557\tfizz\t559\tbuzz\tfizz\t562\t563\tfizz\tbuzz\t566\tfizz\t568\t569\tfizzbuzz\t571\t572\tfizz\t574\tbuzz\tfizz\t577\t578\tfizz\tbuzz\t581\tfizz\t583\t584\tfizzbuzz\t586\t587\tfizz\t589\tbuzz\tfizz\t592\t593\tfizz\tbuzz\t596\tfizz\t598\t"
     ]
    }
   ],
   "source": [
    "n=int(input(\"enter n : \"))\n",
    "print(n)\n",
    "for i in range(n+1):\n",
    "    if i%3==0 and i%5!=0:\n",
    "        print(\"fizz\",end = \"\\t\")\n",
    "    elif i%3!=0 and i%5==0:\n",
    "        print(\"buzz\",end = \"\\t\")\n",
    "    elif i%3==0 and i%5==0:\n",
    "        print(\"fizzbuzz\",end = \"\\t\")\n",
    "    else:\n",
    "        print(i,end = \"\\t\")"
   ]
  },
  {
   "cell_type": "code",
   "execution_count": null,
   "id": "8fae1961",
   "metadata": {},
   "outputs": [],
   "source": []
  }
 ],
 "metadata": {
  "kernelspec": {
   "display_name": "Python 3",
   "language": "python",
   "name": "python3"
  },
  "language_info": {
   "codemirror_mode": {
    "name": "ipython",
    "version": 3
   },
   "file_extension": ".py",
   "mimetype": "text/x-python",
   "name": "python",
   "nbconvert_exporter": "python",
   "pygments_lexer": "ipython3",
   "version": "3.8.8"
  }
 },
 "nbformat": 4,
 "nbformat_minor": 5
}
