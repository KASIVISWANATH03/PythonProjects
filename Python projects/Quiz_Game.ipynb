{
 "cells": [
  {
   "cell_type": "code",
   "execution_count": 4,
   "id": "55e548aa",
   "metadata": {},
   "outputs": [
    {
     "name": "stdout",
     "output_type": "stream",
     "text": [
      "are u human?\n",
      "are u enjoying life\n"
     ]
    }
   ],
   "source": [
    "questions_list = [{\"text\":\"are u human?\",\"answer\":\"True\"},{\"text\":\"are u enjoying life?\",\"answer\":\"True\"}]\n",
    "class Questions:\n",
    "    def __init__(self,text,answer):\n",
    "        self.text = text\n",
    "        self.answer = answer\n",
    "for i in questions_list:\n",
    "    t = i[\"text\"]\n",
    "    a = i[\"answer\"]\n",
    "    obj = Questions(t,a)\n",
    "    print(obj.text)"
   ]
  },
  {
   "cell_type": "code",
   "execution_count": null,
   "id": "003aee1a",
   "metadata": {},
   "outputs": [],
   "source": []
  }
 ],
 "metadata": {
  "kernelspec": {
   "display_name": "Python 3",
   "language": "python",
   "name": "python3"
  },
  "language_info": {
   "codemirror_mode": {
    "name": "ipython",
    "version": 3
   },
   "file_extension": ".py",
   "mimetype": "text/x-python",
   "name": "python",
   "nbconvert_exporter": "python",
   "pygments_lexer": "ipython3",
   "version": "3.8.8"
  }
 },
 "nbformat": 4,
 "nbformat_minor": 5
}
