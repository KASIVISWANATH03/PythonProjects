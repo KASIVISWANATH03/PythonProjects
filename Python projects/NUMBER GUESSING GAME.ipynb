{
 "cells": [
  {
   "cell_type": "code",
   "execution_count": 2,
   "id": "fffea8c2",
   "metadata": {},
   "outputs": [
    {
     "name": "stdout",
     "output_type": "stream",
     "text": [
      "Welcome to tha number guessing game!!!\n",
      "Iam thinking a number between 1 and 100..\n",
      "choose the difficulty easy or hard.hard\n",
      "you have 5 attempts remaining to guess the code.\n",
      "Make a guess : 56\n",
      "your guess is lower than the answer\n",
      "you have 4 attempts remaining to guess the code.\n",
      "Make a guess : 75\n",
      "your guess is lower than the answer\n",
      "you have 3 attempts remaining to guess the code.\n",
      "Make a guess : 85\n",
      "your guess is higher than the answer\n",
      "you have 2 attempts remaining to guess the code.\n",
      "Make a guess : 82\n",
      "your guess is higher than the answer\n",
      "you have 1 attempts remaining to guess the code.\n",
      "Make a guess : 81\n",
      "you got it!!!!!\n",
      "and the final answer is 81\n"
     ]
    }
   ],
   "source": [
    "from random import randint\n",
    "easy_level_turns = 10\n",
    "hard_level_turns = 5\n",
    "def set_difficulty():\n",
    "    level = input(\"choose the difficulty easy or hard.\").lower()\n",
    "    if level == \"easy\":\n",
    "        return easy_level_turns\n",
    "    else:\n",
    "        return hard_level_turns\n",
    "    \n",
    "def check_answer(guess,answer,turns):\n",
    "    if guess > answer:\n",
    "        print(\"your guess is higher than the answer\")\n",
    "        return turns-1\n",
    "    elif guess<answer:\n",
    "        print(\"your guess is lower than the answer\")\n",
    "        return turns-1\n",
    "    else:\n",
    "        print(f\"you got it!!!!!\")\n",
    "\n",
    "def game():\n",
    "    print(\"Welcome to tha number guessing game!!!\")\n",
    "    print(\"Iam thinking a number between 1 and 100..\")\n",
    "    answer = randint(1,100)\n",
    "    turns = set_difficulty()\n",
    "    guess = 0\n",
    "    \n",
    "    while guess!=answer:\n",
    "        print(f\"you have {turns} attempts remaining to guess the code.\")\n",
    "        guess=int(input(\"Make a guess : \"))\n",
    "        turns = check_answer(guess,answer,turns)\n",
    "        if turns == 0:\n",
    "            print(\"you have ran out off guess , you lose\")\n",
    "            break\n",
    "    print(f\"and the final answer is {answer}\")    \n",
    "game()\n"
   ]
  },
  {
   "cell_type": "code",
   "execution_count": null,
   "id": "389aeb7c",
   "metadata": {},
   "outputs": [],
   "source": []
  }
 ],
 "metadata": {
  "kernelspec": {
   "display_name": "Python 3",
   "language": "python",
   "name": "python3"
  },
  "language_info": {
   "codemirror_mode": {
    "name": "ipython",
    "version": 3
   },
   "file_extension": ".py",
   "mimetype": "text/x-python",
   "name": "python",
   "nbconvert_exporter": "python",
   "pygments_lexer": "ipython3",
   "version": "3.8.8"
  }
 },
 "nbformat": 4,
 "nbformat_minor": 5
}
