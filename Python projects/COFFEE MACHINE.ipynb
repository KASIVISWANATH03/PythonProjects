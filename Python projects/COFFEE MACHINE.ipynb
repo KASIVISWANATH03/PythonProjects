{
 "cells": [
  {
   "cell_type": "code",
   "execution_count": 1,
   "id": "053bce48",
   "metadata": {},
   "outputs": [
    {
     "name": "stdout",
     "output_type": "stream",
     "text": [
      "what do you want (capi chano/black coffee)???capi chano\n",
      "please insert money (capi chano is 500/black coffee is 300)\n",
      "please insert the money!!!500\n",
      "the amount to be collected is 0Rs.\n",
      "Here is your capi chano\n",
      "have a nice day!!!\n",
      "if there is no any other person type off to switch of the machine\n",
      "what do you want (capi chano/black coffee)???off\n"
     ]
    }
   ],
   "source": [
    "menu = {\n",
    "    \"capi chano\" : {\n",
    "        \"ingredients\" : {\n",
    "            \"water\" : 50,\n",
    "            \"coffee powder\" : 50,\n",
    "            \"milk\" : 100,\n",
    "        },\n",
    "        \"cost\" : 500,\n",
    "    },\n",
    "    \"black coffee\" : {\n",
    "        \"ingredients\" : {\n",
    "            \"water\" : 20,\n",
    "            \"coffee powder\" : 60,\n",
    "            \"milk\" : 30,\n",
    "        },\n",
    "        \"cost\" : 300,\n",
    "    },\n",
    "}\n",
    "profit = 0\n",
    "resources = {\n",
    "    \"water\" : 5000,\n",
    "    \"coffee powder\" : 1000,\n",
    "    \"milk\" : 10000,\n",
    "}\n",
    "def is_resources_sufficient(order_ingredients):\n",
    "    for items in order_ingredients:\n",
    "        if order_ingredients[items] >= resources[items]:\n",
    "            print(f\"Sorry there is not enough {items}.\")\n",
    "            return False\n",
    "    return True\n",
    "def is_transaction_issuccessful(money_received,coffee_price):\n",
    "\n",
    "    if money_received >= coffee_price:\n",
    "        bill = money_received-coffee_price\n",
    "        print(f\"the amount to be collected is {bill}Rs.\")\n",
    "        return True\n",
    "    elif money_received << coffee_price:\n",
    "        print(\"Sorry the money is not enough, and the money is refunded\")\n",
    "        return False\n",
    "\n",
    "def make_coffee(drink_name,ordered_ingredients):\n",
    "    for items in ordered_ingredients:\n",
    "        resources[items] -= ordered_ingredients[items]\n",
    "    print(f\"Here is your {drink_name}\")\n",
    "    print(\"have a nice day!!!\")\n",
    "    print(\"if there is no any other person type off to switch of the machine\")\n",
    "\n",
    "\n",
    "is_on = True\n",
    "while is_on:\n",
    "    choice = input(\"what do you want (capi chano/black coffee)???\").lower()\n",
    "    if choice == \"off\":\n",
    "        is_on = False\n",
    "    elif choice == \"report\":\n",
    "       print(f\"water = {resources['water']}ml\" )\n",
    "       print(f\"coffe powder = {resources['coffee powder']}g\")\n",
    "       print(f\"milk = {resources['milk']}ml\")\n",
    "\n",
    "    else:\n",
    "        coffee = menu[choice]\n",
    "        if is_resources_sufficient(coffee[\"ingredients\"]):\n",
    "            print(\"please insert money (capi chano is 500/black coffee is 300)\")\n",
    "            money_inserted = int(input(\"please insert the money!!!\"))\n",
    "            if is_transaction_issuccessful(money_inserted, coffee[\"cost\"]):\n",
    "                make_coffee(choice, coffee[\"ingredients\"])\n",
    "\n",
    "\n"
   ]
  },
  {
   "cell_type": "code",
   "execution_count": null,
   "id": "7be364c9",
   "metadata": {},
   "outputs": [],
   "source": []
  }
 ],
 "metadata": {
  "kernelspec": {
   "display_name": "Python 3",
   "language": "python",
   "name": "python3"
  },
  "language_info": {
   "codemirror_mode": {
    "name": "ipython",
    "version": 3
   },
   "file_extension": ".py",
   "mimetype": "text/x-python",
   "name": "python",
   "nbconvert_exporter": "python",
   "pygments_lexer": "ipython3",
   "version": "3.8.8"
  }
 },
 "nbformat": 4,
 "nbformat_minor": 5
}
