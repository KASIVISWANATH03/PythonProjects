{
 "cells": [
  {
   "cell_type": "markdown",
   "id": "e3326c6a",
   "metadata": {},
   "source": [
    "# TYPE-1"
   ]
  },
  {
   "cell_type": "raw",
   "id": "986ca0b8",
   "metadata": {},
   "source": [
    "GENERATING THE PASSWORD IN THE ORDER"
   ]
  },
  {
   "cell_type": "code",
   "execution_count": 1,
   "id": "55a92215",
   "metadata": {},
   "outputs": [
    {
     "name": "stdout",
     "output_type": "stream",
     "text": [
      "Welcome to the password generator !!!\n",
      "enter how many letters do u want : 3\n",
      "enter how many digits you want : 3\n",
      "enter hoe many symbols you want : 3\n",
      "VQD995)&)\n"
     ]
    }
   ],
   "source": [
    "import random\n",
    "print(\"Welcome to the password generator !!!\")\n",
    "letters=['A','B','C','D','E','F','G','H','I','J','K','L','M','N','O','P','Q','R','S','T','U','V','W','X','Y','Z']\n",
    "digits=['1','2','3','4','5','6','7','8','9']\n",
    "symbols=['!','@','#','$','%','&','*','(',')']\n",
    "n1=int(input(\"enter how many letters do u want : \"))\n",
    "n2=int(input(\"enter how many digits you want : \"))\n",
    "n3=int(input(\"enter hoe many symbols you want : \"))\n",
    "password = \"\"\n",
    "for i in range(1,n1+1):\n",
    "    password +=random.choice(letters)\n",
    "for i in range(1,n2+1):\n",
    "    password +=random.choice(digits)\n",
    "for i in range(1,n3+1):\n",
    "    password +=random.choice(symbols)\n",
    "print(password)"
   ]
  },
  {
   "cell_type": "markdown",
   "id": "0cd620ec",
   "metadata": {},
   "source": [
    "# TYPE-2"
   ]
  },
  {
   "cell_type": "raw",
   "id": "cac65279",
   "metadata": {},
   "source": [
    "GENERATING THE PASSWORD IN THE RANDOM ORDER"
   ]
  },
  {
   "cell_type": "code",
   "execution_count": 2,
   "id": "969943d3",
   "metadata": {},
   "outputs": [
    {
     "name": "stdout",
     "output_type": "stream",
     "text": [
      "Welcome to a password generator !!!\n",
      "enter how many letters do u want : 6\n",
      "enter how many digits you want : 3\n",
      "enter how many symbols you want : 5\n",
      "the password is  6B@I!*Q#LF%K99\n"
     ]
    }
   ],
   "source": [
    "import random\n",
    "print(\"Welcome to a password generator !!!\")\n",
    "letters=['A','B','C','D','E','F','G','H','I','J','K','L','M','N','O','P','Q','R','S','T','U','V','W','X','Y','Z']\n",
    "digits=['1','2','3','4','5','6','7','8','9']\n",
    "symbols=['!','@','#','$','%','&','*','(',')']\n",
    "n1=int(input(\"enter how many letters do u want : \"))\n",
    "n2=int(input(\"enter how many digits you want : \"))\n",
    "n3=int(input(\"enter how many symbols you want : \"))\n",
    "password = []\n",
    "for i in range(1,n1+1):\n",
    "    password +=random.choice(letters)\n",
    "for i in range(1,n2+1):\n",
    "    password +=random.choice(digits)\n",
    "for i in range(1,n3+1):\n",
    "    password +=random.choice(symbols)\n",
    "random.shuffle(password)\n",
    "a=\"\"\n",
    "for i in password:\n",
    "    a+=i\n",
    "print(\"the password is \",a)"
   ]
  },
  {
   "cell_type": "code",
   "execution_count": null,
   "id": "4ac8fdbe",
   "metadata": {},
   "outputs": [],
   "source": []
  }
 ],
 "metadata": {
  "kernelspec": {
   "display_name": "Python 3",
   "language": "python",
   "name": "python3"
  },
  "language_info": {
   "codemirror_mode": {
    "name": "ipython",
    "version": 3
   },
   "file_extension": ".py",
   "mimetype": "text/x-python",
   "name": "python",
   "nbconvert_exporter": "python",
   "pygments_lexer": "ipython3",
   "version": "3.8.8"
  }
 },
 "nbformat": 4,
 "nbformat_minor": 5
}
