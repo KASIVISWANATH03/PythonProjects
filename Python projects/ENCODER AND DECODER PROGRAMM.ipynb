{
 "cells": [
  {
   "cell_type": "code",
   "execution_count": 1,
   "id": "41435912",
   "metadata": {},
   "outputs": [
    {
     "name": "stdout",
     "output_type": "stream",
     "text": [
      "type encode to encrypt and type decode to decryptENCODE\n",
      "enter your message  : hello\n",
      "type the shift number : 3\n",
      "Enter Y to decode N to leave : y\n",
      "Deceypted text is HELLO\n"
     ]
    }
   ],
   "source": [
    "alphabet=[chr(i) for i in range(ord(\"A\"),ord(\"Z\")+1)]\n",
    "direction = input(\"type encode to encrypt and type decode to decrypt\")\n",
    "text = input(\"enter your message  : \").upper()\n",
    "shift = int(input(\"type the shift number : \"))\n",
    "def encrypt(t,s):\n",
    "    empty = \"\"\n",
    "    for letters in t:\n",
    "        position = alphabet.index(letters)\n",
    "        new_position = position + s\n",
    "        new_letter = alphabet[new_position]\n",
    "        empty +=new_letter\n",
    "    return empty\n",
    "def decrypt(empty,s):\n",
    "    empty2 = \"\"\n",
    "    for letters in empty:\n",
    "        position = alphabet.index(letters)\n",
    "        new_position = position - s\n",
    "        new_letter = alphabet[new_position]\n",
    "        empty2 +=new_letter\n",
    "    return empty2\n",
    "en_txt = encrypt(text,shift)\n",
    "de_txt = decrypt(en_txt,shift)\n",
    "if direction==\"encode\":\n",
    "    print(f\"Encrypted text is {en_txt}\")\n",
    "choice = input(\"Enter Y to decode N to leave : \").upper()\n",
    "if choice==\"Y\":\n",
    "    print(f\"Deceypted text is {de_txt}\")"
   ]
  },
  {
   "cell_type": "code",
   "execution_count": null,
   "id": "c709f5e6",
   "metadata": {},
   "outputs": [],
   "source": []
  }
 ],
 "metadata": {
  "kernelspec": {
   "display_name": "Python 3",
   "language": "python",
   "name": "python3"
  },
  "language_info": {
   "codemirror_mode": {
    "name": "ipython",
    "version": 3
   },
   "file_extension": ".py",
   "mimetype": "text/x-python",
   "name": "python",
   "nbconvert_exporter": "python",
   "pygments_lexer": "ipython3",
   "version": "3.8.8"
  }
 },
 "nbformat": 4,
 "nbformat_minor": 5
}
