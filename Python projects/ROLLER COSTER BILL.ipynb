{
 "cells": [
  {
   "cell_type": "code",
   "execution_count": 3,
   "id": "41f32bb6",
   "metadata": {},
   "outputs": [
    {
     "name": "stdout",
     "output_type": "stream",
     "text": [
      "Enter ur height in cms : 150\n",
      "U can ride the rollercaster dear!!!\n",
      "Enter ur age : 23\n",
      "Do u want UR photos type Y for yes and N for No : Y\n",
      "Total bill :  15 $\n"
     ]
    }
   ],
   "source": [
    "ht = int(input(\"Enter ur height in cms : \"))\n",
    "if ht>=120:\n",
    "    bill = 0\n",
    "    print(\"U can ride the rollercaster dear!!!\")\n",
    "    age = int(input(\"Enter ur age : \"))\n",
    "    if age<12:\n",
    "        bill+=5\n",
    "    elif age>18:\n",
    "        bill+=12\n",
    "    elif age>=12 and age <=18:\n",
    "        bill+=7\n",
    "    want_photo = input(\"Do u want UR photos type Y for yes and N for No : \")\n",
    "    if want_photo == 'Y':\n",
    "        bill+=3\n",
    "        print(\"Total bill : \",bill,\"$\")\n",
    "    elif want_photo == 'N':\n",
    "        bill+=0\n",
    "        print(\"Total bill : \",bill,\"$\")\n",
    "    else :\n",
    "        print(\"Enter a valid option\")\n",
    "else :\n",
    "    \n",
    "    print(\"Sorry, UR under height for going a ride come next time!!!! \")"
   ]
  },
  {
   "cell_type": "code",
   "execution_count": null,
   "id": "cc2a76b0",
   "metadata": {},
   "outputs": [],
   "source": []
  }
 ],
 "metadata": {
  "kernelspec": {
   "display_name": "Python 3",
   "language": "python",
   "name": "python3"
  },
  "language_info": {
   "codemirror_mode": {
    "name": "ipython",
    "version": 3
   },
   "file_extension": ".py",
   "mimetype": "text/x-python",
   "name": "python",
   "nbconvert_exporter": "python",
   "pygments_lexer": "ipython3",
   "version": "3.8.8"
  }
 },
 "nbformat": 4,
 "nbformat_minor": 5
}
