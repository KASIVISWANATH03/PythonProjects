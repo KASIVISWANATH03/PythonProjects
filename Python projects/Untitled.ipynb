{
 "cells": [
  {
   "cell_type": "code",
   "execution_count": 12,
   "id": "5dbfa5b3",
   "metadata": {},
   "outputs": [
    {
     "name": "stdout",
     "output_type": "stream",
     "text": [
      "'+'         '-'         '*'         '/'         '%'         Enter = symbol to show result---\n",
      "1\n",
      "enter symbol : +\n",
      "2\n",
      "\n",
      "enter symbol : +\n",
      "5\n",
      "\n",
      "enter symbol : *\n",
      "8\n",
      "\n",
      "enter symbol : +\n",
      "5\n",
      "\n",
      "enter symbol : =\n",
      "1 + 2 + 5 * 8 + 5 = 69\n"
     ]
    }
   ],
   "source": [
    "def add(a,b):\n",
    "    return a+b\n",
    "def sub(a,b):\n",
    "    return a-b\n",
    "def mul(a,b):\n",
    "    return a*b\n",
    "def div(a,b):\n",
    "    return a//b\n",
    "def mod(a,b):\n",
    "    return a%b\n",
    "operations= {\"+\":add,\"-\":sub,\"*\":mul,\"/\":div,\"%\":mod}\n",
    "for symbol in operations:\n",
    "        print(f\"'{symbol}'\",end = \"         \")\n",
    "print(\"Enter = symbol to show result---\")\n",
    "i = True\n",
    "symbol1=\"\"\n",
    "a = int(input())\n",
    "ans = str(a)\n",
    "while(i):\n",
    "    symbol1 = input(\"enter symbol : \")\n",
    "    if symbol1 == \"=\":\n",
    "        print(f\"{ans} = {a}\")\n",
    "        break\n",
    "    b = int(input())\n",
    "    calculation = operations[symbol1]\n",
    "    ans+=\" \"+symbol1+\" \"+str(b)\n",
    "    print()\n",
    "    a = calculation(a,b)"
   ]
  },
  {
   "cell_type": "code",
   "execution_count": null,
   "id": "934e3cbe",
   "metadata": {},
   "outputs": [],
   "source": []
  }
 ],
 "metadata": {
  "kernelspec": {
   "display_name": "Python 3",
   "language": "python",
   "name": "python3"
  },
  "language_info": {
   "codemirror_mode": {
    "name": "ipython",
    "version": 3
   },
   "file_extension": ".py",
   "mimetype": "text/x-python",
   "name": "python",
   "nbconvert_exporter": "python",
   "pygments_lexer": "ipython3",
   "version": "3.8.8"
  }
 },
 "nbformat": 4,
 "nbformat_minor": 5
}
