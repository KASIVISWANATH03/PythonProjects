{
 "cells": [
  {
   "cell_type": "code",
   "execution_count": 2,
   "id": "2feb8d69",
   "metadata": {},
   "outputs": [
    {
     "name": "stdout",
     "output_type": "stream",
     "text": [
      "what is ur name : kasi\n",
      "what is ur bid $ 56\n",
      "is there any bidders present type yes or no!!yes\n",
      "what is ur name : viswanath\n",
      "what is ur bid $ 95\n",
      "is there any bidders present type yes or no!!yes\n",
      "what is ur name : reddy\n",
      "what is ur bid $ 97\n",
      "is there any bidders present type yes or no!!no\n",
      "the winner is : reddy\n",
      "with a bid amount $ 97\n"
     ]
    }
   ],
   "source": [
    "bids={}\n",
    "finish=0\n",
    "def find_highest_bidder(bidding):\n",
    "    highest_bid = 0\n",
    "    winner=\"\"\n",
    "    for bidder in bidding:\n",
    "        bid_amount = bidding[bidder]\n",
    "        if bid_amount > highest_bid:\n",
    "            highest_bid = bid_amount\n",
    "            winner = bidder\n",
    "    print(\"the winner is :\",winner)\n",
    "    print(\"with a bid amount $\",highest_bid)\n",
    "while not finish:\n",
    "    name = input(\"what is ur name : \")\n",
    "    price = int(input(\"what is ur bid $ \"))\n",
    "    bids[name]=price\n",
    "    should_continue = input(\"is there any bidders present type yes or no!!\")\n",
    "    if should_continue ==\"no\":\n",
    "        find_highest_bidder(bids)\n",
    "        finish=1\n",
    "    elif should_continue == \"yes\":\n",
    "        continue"
   ]
  },
  {
   "cell_type": "code",
   "execution_count": null,
   "id": "0c23a303",
   "metadata": {},
   "outputs": [],
   "source": []
  }
 ],
 "metadata": {
  "kernelspec": {
   "display_name": "Python 3",
   "language": "python",
   "name": "python3"
  },
  "language_info": {
   "codemirror_mode": {
    "name": "ipython",
    "version": 3
   },
   "file_extension": ".py",
   "mimetype": "text/x-python",
   "name": "python",
   "nbconvert_exporter": "python",
   "pygments_lexer": "ipython3",
   "version": "3.8.8"
  }
 },
 "nbformat": 4,
 "nbformat_minor": 5
}
