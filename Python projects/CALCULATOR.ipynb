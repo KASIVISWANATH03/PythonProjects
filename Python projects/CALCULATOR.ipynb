{
 "cells": [
  {
   "cell_type": "code",
   "execution_count": 1,
   "id": "8f40c461",
   "metadata": {},
   "outputs": [
    {
     "name": "stdout",
     "output_type": "stream",
     "text": [
      "Enter a value : 6\n",
      "Choose ur operation symbol from the below\n",
      "'+'         '-'         '*'         '/'         Enter the operation here*\n",
      "Enter b value : 336\n",
      "result is : 2016\n"
     ]
    }
   ],
   "source": [
    "def add(a,b):\n",
    "    return a+b\n",
    "def sub(a,b):\n",
    "    return a-b\n",
    "def mul(a,b):\n",
    "    return a*b\n",
    "def div(a,b):\n",
    "    return a/b\n",
    "operations = {\n",
    "    \"+\":add,\n",
    "    \"-\":sub,\n",
    "    \"*\":mul,\n",
    "    \"/\":div\n",
    "}\n",
    "a=int(input(\"Enter a value : \"))\n",
    "print(\"Choose ur operation symbol from the below\")\n",
    "for symbol in operations:\n",
    "    print(f\"'{symbol}'\",end = \"         \")\n",
    "operation_symbol = input(\"Enter the operation here\")\n",
    "b=int(input(\"Enter b value : \"))\n",
    "calculation = operations[operation_symbol]\n",
    "\n",
    "answer = round(calculation(a,b),2)\n",
    "print(f\"result is : {answer}\")\n"
   ]
  },
  {
   "cell_type": "code",
   "execution_count": null,
   "id": "db36631f",
   "metadata": {},
   "outputs": [],
   "source": []
  }
 ],
 "metadata": {
  "kernelspec": {
   "display_name": "Python 3",
   "language": "python",
   "name": "python3"
  },
  "language_info": {
   "codemirror_mode": {
    "name": "ipython",
    "version": 3
   },
   "file_extension": ".py",
   "mimetype": "text/x-python",
   "name": "python",
   "nbconvert_exporter": "python",
   "pygments_lexer": "ipython3",
   "version": "3.8.8"
  }
 },
 "nbformat": 4,
 "nbformat_minor": 5
}
