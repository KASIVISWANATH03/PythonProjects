{
 "cells": [
  {
   "cell_type": "code",
   "execution_count": 3,
   "id": "266172ae",
   "metadata": {},
   "outputs": [
    {
     "name": "stdout",
     "output_type": "stream",
     "text": [
      "['_', '_', '_', '_', '_', '_', '_', '_', '_']\n",
      "guess a letter : V\n",
      "['v', '_', '_', '_', '_', '_', '_', '_', '_']\n",
      "guess a letter : I\n",
      "['v', 'i', '_', '_', '_', '_', '_', '_', '_']\n",
      "guess a letter : S\n",
      "['v', 'i', 's', '_', '_', '_', '_', '_', '_']\n",
      "guess a letter : W\n",
      "['v', 'i', 's', 'w', '_', '_', '_', '_', '_']\n",
      "guess a letter : A\n",
      "['v', 'i', 's', 'w', 'a', '_', '_', '_', '_']\n",
      "['v', 'i', 's', 'w', 'a', '_', 'a', '_', '_']\n",
      "guess a letter : N\n",
      "['v', 'i', 's', 'w', 'a', 'n', 'a', '_', '_']\n",
      "guess a letter : A\n",
      "['v', 'i', 's', 'w', 'a', 'n', 'a', '_', '_']\n",
      "['v', 'i', 's', 'w', 'a', 'n', 'a', '_', '_']\n",
      "guess a letter : T\n",
      "['v', 'i', 's', 'w', 'a', 'n', 'a', 't', '_']\n",
      "guess a letter : H\n",
      "['v', 'i', 's', 'w', 'a', 'n', 'a', 't', 'h']\n",
      "you won\n",
      "choosen by the system is :  viswanath\n"
     ]
    }
   ],
   "source": [
    "import random\n",
    "word_list=['kasi','viswanath','reddy']\n",
    "chosen_word=random.choice(word_list)\n",
    "display = []\n",
    "for _ in range(len(chosen_word)):\n",
    "    display+=\"_\"\n",
    "print(display)\n",
    "i=False\n",
    "chance=3\n",
    "while not i:\n",
    "    guess=input(\"guess a letter : \").lower()\n",
    "    for position in range(len(chosen_word)):\n",
    "        if chosen_word[position]==guess:\n",
    "            display[position]=guess\n",
    "            print(display)\n",
    "    if guess not in chosen_word:\n",
    "        chance-=1\n",
    "        if chance == 0:\n",
    "            i = True\n",
    "            print(\"u loss\")\n",
    "    if \"_\" not in display:\n",
    "        i = True\n",
    "        print(\"you won\")\n",
    "print(\"choosen by the system is : \",chosen_word)\n"
   ]
  },
  {
   "cell_type": "code",
   "execution_count": null,
   "id": "0a263e85",
   "metadata": {},
   "outputs": [],
   "source": []
  }
 ],
 "metadata": {
  "kernelspec": {
   "display_name": "Python 3",
   "language": "python",
   "name": "python3"
  },
  "language_info": {
   "codemirror_mode": {
    "name": "ipython",
    "version": 3
   },
   "file_extension": ".py",
   "mimetype": "text/x-python",
   "name": "python",
   "nbconvert_exporter": "python",
   "pygments_lexer": "ipython3",
   "version": "3.8.8"
  }
 },
 "nbformat": 4,
 "nbformat_minor": 5
}
