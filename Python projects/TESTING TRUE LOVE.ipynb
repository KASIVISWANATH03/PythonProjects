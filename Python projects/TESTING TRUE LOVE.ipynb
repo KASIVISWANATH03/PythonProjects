{
 "cells": [
  {
   "cell_type": "code",
   "execution_count": 2,
   "id": "58120236",
   "metadata": {},
   "outputs": [
    {
     "name": "stdout",
     "output_type": "stream",
     "text": [
      "Welcome to LOVE calculator!!!\n",
      "Enter name of Boy partner in capital letters : ACDCJDSF\n",
      "Enter name of Girl partner in capital letters: ADSFAD\n",
      "00 %\n",
      "Ur Like COKE AND MENTOS and also comedy couple!!!\n"
     ]
    }
   ],
   "source": [
    "print(\"Welcome to LOVE calculator!!!\")\n",
    "Boy = input(\"Enter name of Boy partner in capital letters : \").upper()\n",
    "Girl = input(\"Enter name of Girl partner in capital letters: \").upper()\n",
    "mix = Boy+Girl\n",
    "t=mix.count(\"T\")\n",
    "r=mix.count(\"R\")\n",
    "u=mix.count(\"U\")\n",
    "e=mix.count(\"E\")\n",
    "d1 = t+r+u+e\n",
    "l=mix.count(\"L\")\n",
    "o=mix.count(\"O\")\n",
    "v=mix.count(\"V\")\n",
    "e=mix.count(\"E\")\n",
    "\n",
    "d2 = l+o+v+e\n",
    "d3 = d1*10+d2\n",
    "print(str(d1)+str(d2),\"%\")\n",
    "if d3>75:\n",
    "    print(\"You R like bread and butter\")\n",
    "elif d3>=30 and d3<=75:\n",
    "    print(\"UR alright!!!\")\n",
    "else :\n",
    "    print(\"Ur Like COKE AND MENTOS and also comedy couple!!!\")"
   ]
  },
  {
   "cell_type": "code",
   "execution_count": null,
   "id": "2531ffc3",
   "metadata": {},
   "outputs": [],
   "source": []
  }
 ],
 "metadata": {
  "kernelspec": {
   "display_name": "Python 3",
   "language": "python",
   "name": "python3"
  },
  "language_info": {
   "codemirror_mode": {
    "name": "ipython",
    "version": 3
   },
   "file_extension": ".py",
   "mimetype": "text/x-python",
   "name": "python",
   "nbconvert_exporter": "python",
   "pygments_lexer": "ipython3",
   "version": "3.8.8"
  }
 },
 "nbformat": 4,
 "nbformat_minor": 5
}
