{
 "cells": [
  {
   "cell_type": "code",
   "execution_count": 1,
   "id": "e7e35484",
   "metadata": {},
   "outputs": [
    {
     "name": "stdout",
     "output_type": "stream",
     "text": [
      "Welcome to tresure Island!!\n",
      "UR mission is to find a tresure \n",
      "Enter left or right as L or R : R\n",
      "Game Over!!!! BoOm\n"
     ]
    }
   ],
   "source": [
    "print(\"Welcome to tresure Island!!\")\n",
    "print(\"UR mission is to find a tresure \")\n",
    "dir = input(\"Enter left or right as L or R : \")\n",
    "if dir=='R':\n",
    "    print(\"Game Over!!!! BoOm\")\n",
    "elif dir == 'L':\n",
    "    print(\"A lake is in front of u Do u like to wait or swim\")\n",
    "    choice = input(\"Enter choice as W or S : \")\n",
    "    if choice == 'W':\n",
    "        print(\"Boat is on the way please wait!!\")\n",
    "        print()\n",
    "        print()\n",
    "        print(\"Boat is arrived Get into the boat\")\n",
    "        print()\n",
    "        print()\n",
    "        print(\"Reached island!!\")\n",
    "        print(\"Three doors of red blue and yellow in front of u choose any one of them\")\n",
    "        color = input(\"Enter the color as R B Y : \")\n",
    "        if(color == 'R' or color == 'B'):\n",
    "            print(\"Game Over!!\")\n",
    "            print(\"If u choosen yellow U may win\")\n",
    "            print(\"Better luck next time Bye....... : )\")\n",
    "            print(\"The map is L---->W---->Y \")\n",
    "        else :\n",
    "            print(\"Congratulations you found the tresure!!! and won the Game\")\n",
    "    elif choice == \"S\":\n",
    "        print(\"Game Over!!! beaten by sharks\")\n",
    "    else : \n",
    "        print(\"Invalid choice\")\n",
    "else :\n",
    "     print(\"Enter a valid opt\")\n",
    "    "
   ]
  },
  {
   "cell_type": "code",
   "execution_count": null,
   "id": "bdf5ea5b",
   "metadata": {},
   "outputs": [],
   "source": []
  }
 ],
 "metadata": {
  "kernelspec": {
   "display_name": "Python 3",
   "language": "python",
   "name": "python3"
  },
  "language_info": {
   "codemirror_mode": {
    "name": "ipython",
    "version": 3
   },
   "file_extension": ".py",
   "mimetype": "text/x-python",
   "name": "python",
   "nbconvert_exporter": "python",
   "pygments_lexer": "ipython3",
   "version": "3.8.8"
  }
 },
 "nbformat": 4,
 "nbformat_minor": 5
}
