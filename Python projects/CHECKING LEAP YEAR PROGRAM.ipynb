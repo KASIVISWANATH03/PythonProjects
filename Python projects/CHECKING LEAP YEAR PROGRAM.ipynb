{
 "cells": [
  {
   "cell_type": "code",
   "execution_count": 1,
   "id": "bd171540",
   "metadata": {},
   "outputs": [
    {
     "name": "stdout",
     "output_type": "stream",
     "text": [
      "Checking of whether the given year is a leap or not!!!\n",
      "Enter any year : 2301\n",
      "2301 is not a Leap year\n"
     ]
    }
   ],
   "source": [
    "print(\"Checking of whether the given year is a leap or not!!!\")\n",
    "year = int(input(\"Enter any year : \"))\n",
    "if year%4==0:\n",
    "    if year%100 ==0 :\n",
    "        if year%400 == 0:\n",
    "            print(year,\"is a Leap year\")\n",
    "        else :\n",
    "            print(year,\"is not a Leap year\")\n",
    "    else :\n",
    "        print(year,\"is a Leap year\")\n",
    "else :\n",
    "    print(year,\"is not a Leap year\")"
   ]
  },
  {
   "cell_type": "code",
   "execution_count": null,
   "id": "72b21d82",
   "metadata": {},
   "outputs": [],
   "source": []
  }
 ],
 "metadata": {
  "kernelspec": {
   "display_name": "Python 3",
   "language": "python",
   "name": "python3"
  },
  "language_info": {
   "codemirror_mode": {
    "name": "ipython",
    "version": 3
   },
   "file_extension": ".py",
   "mimetype": "text/x-python",
   "name": "python",
   "nbconvert_exporter": "python",
   "pygments_lexer": "ipython3",
   "version": "3.8.8"
  }
 },
 "nbformat": 4,
 "nbformat_minor": 5
}
